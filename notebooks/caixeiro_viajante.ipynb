{
 "cells": [
  {
   "cell_type": "code",
   "execution_count": 1,
   "metadata": {},
   "outputs": [
    {
     "name": "stdout",
     "output_type": "stream",
     "text": [
      "Valor ótimo PCV = 440.938\n",
      "\n",
      " 0   -->  10\n",
      "10   -->   8\n",
      " 8   -->  19\n",
      "19   -->  17\n",
      "17   -->   7\n",
      " 7   -->  18\n",
      "18   -->  14\n",
      "14   -->  23\n",
      "23   -->  20\n",
      "20   -->   3\n",
      " 3   -->   6\n",
      " 6   -->  15\n",
      "15   -->   4\n",
      " 4   -->   1\n",
      " 1   -->  11\n",
      "11   -->  12\n",
      "12   -->  13\n",
      "13   -->   5\n",
      " 5   -->  21\n",
      "21   -->   9\n",
      " 9   -->  16\n",
      "16   -->   2\n",
      " 2   -->  24\n",
      "24   -->  22\n",
      "22   -->   0\n"
     ]
    },
    {
     "name": "stderr",
     "output_type": "stream",
     "text": [
      "C:\\Users\\2840481821014\\AppData\\Local\\Temp\\ipykernel_3608\\177667604.py:93: UserWarning: Matplotlib is currently using module://matplotlib_inline.backend_inline, which is a non-GUI backend, so cannot show the figure.\n",
      "  fig1.show()\n"
     ]
    },
    {
     "data": {
      "image/png": "[encoded data removed]",
      "text/plain": [
       "<Figure size 432x288 with 1 Axes>"
      ]
     },
     "metadata": {},
     "output_type": "display_data"
    },
    {
     "data": {
      "text/plain": [
       "model('PCV') is not the default model."
      ]
     },
     "execution_count": 1,
     "metadata": {},
     "output_type": "execute_result"
    }
   ],
   "source": [
    "from pymprog import*\n",
    "from math import*\n",
    "from random import*\n",
    "\n",
    "# bibliotecas para desenhar\n",
    "from matplotlib import pyplot as plt\n",
    "import matplotlib.patches as patches\n",
    "\n",
    "def distancia(i, j):\n",
    "  return sqrt((j[0] - i[0])**2 + (j[1] - i[1])**2)\n",
    "\n",
    "\n",
    "m = 100 # máximo das coordenadas\n",
    "\n",
    "M = 25\n",
    "coordenadas = []\n",
    "for i in range(M):\n",
    "  coordenadas.append([randint(0,m-5),randint(0,m-5)])\n",
    "\n",
    "\n",
    "\n",
    "\n",
    "n = len(coordenadas)  # número de cidades (nós)\n",
    "#print(n)\n",
    "begin('PCV')\n",
    "\n",
    "x = var('x',iprod(range(n),range(n)),bool)\n",
    "u = var('u', n)\n",
    "# função objetivo\n",
    "minimize(sum(distancia(coordenadas[i],coordenadas[j]) * x[i,j] for i in range(n) for j in range(n) if i!=j))\n",
    "\n",
    "# primeira restrição\n",
    "for i in range(n):\n",
    "  sum(x[i,j] for j in range(n) if i!=j) == 1\n",
    "\n",
    "# segunda restrição\n",
    "for j in range(n):\n",
    "  sum(x[i,j] for i in range(n) if i!=j) == 1\n",
    "\n",
    "# eliminação de sub-rotas\n",
    "for i in range(n):\n",
    "  for j in range(1,n):\n",
    "    if i!=j:\n",
    "      u[j] >= u[i] + n * x[i,j] - n + 1\n",
    "\n",
    "\n",
    "# alguns parâmetros de resolução\n",
    "solver(int,mip_gap=0.15)\n",
    "solver(int,tm_lim=10*1000)\n",
    "#solver(int,gmi_cuts=1)\n",
    "solve()\n",
    "\n",
    "print(\"Valor ótimo PCV = {:.3f}\".format(vobj()))\n",
    "print()\n",
    "\n",
    "i = 0\n",
    "j = 1\n",
    "cont = 0\n",
    "while cont < n:\n",
    "  while x[i,j].primal < 0.9:\n",
    "    j = j+1\n",
    "  print(\"{:2d}   -->  {:2d}\".format(i,j))\n",
    "  i = j\n",
    "  j = 0\n",
    "  cont = cont + 1\n",
    "\n",
    "\n",
    "# PLotar rota\n",
    "\n",
    "fig1 = plt.figure()\n",
    "ax1 = fig1.add_subplot(111, aspect='equal')\n",
    "ax1.tick_params(labelbottom=False, labelleft=False, bottom=False, left=False)\n",
    "ax1.grid(False)\n",
    "\n",
    "for i in range(n):\n",
    "  for j in range(n):\n",
    "    if i!=j:\n",
    "      if x[i,j].primal>=0.9:\n",
    "          ax1.add_patch(patches.ConnectionPatch(xyA=(coordenadas[i][0],coordenadas[i][1]), xyB=(coordenadas[j][0],coordenadas[j][1]), coordsA=\"data\", coordsB=\"data\",color='black'))\n",
    "\n",
    "\n",
    "#ax1.add_patch(patches.Circle((coordenadas[0][0],coordenadas[0][1]), radius= 0.04*m, color = 'r'))\n",
    "#plt.text(coordenadas[0][0]-0.02*m/2,coordenadas[0][1]-0.02*m/2, 'D', {'color': 'black', 'fontsize': 10})\n",
    "\n",
    "for i in range(0,n):\n",
    "    ax1.add_patch(patches.Circle((coordenadas[i][0],coordenadas[i][1]), radius= 0.03*m, color = '#F4A460'))\n",
    "    plt.text(coordenadas[i][0]-len(str(i))*0.02*m/2,coordenadas[i][1]-0.02*m/2, str(i), {'color': 'black', 'fontsize': 10})\n",
    "\n",
    "\n",
    "plt.ylim(-1,m+1)\n",
    "plt.xlim(-1,m+1)\n",
    "\n",
    "fig1.show()\n",
    "\n",
    "plt.show(block=True)\n",
    "plt.interactive(False)\n",
    "\n",
    "\n",
    "end()"
   ]
  }
 ],
 "metadata": {
  "interpreter": {
   "hash": "1c88da5dbcff0bf25ba4bd2e4f00506a6bab65f628d443ef5181ddc541eb774d"
  },
  "kernelspec": {
   "display_name": "Python 3.8.10 64-bit",
   "language": "python",
   "name": "python3"
  },
  "language_info": {
   "codemirror_mode": {
    "name": "ipython",
    "version": 3
   },
   "file_extension": ".py",
   "mimetype": "text/x-python",
   "name": "python",
   "nbconvert_exporter": "python",
   "pygments_lexer": "ipython3",
   "version": "3.8.10"
  },
  "orig_nbformat": 4
 },
 "nbformat": 4,
 "nbformat_minor": 2
}
